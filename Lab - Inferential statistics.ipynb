{
 "cells": [
  {
   "cell_type": "markdown",
   "id": "3c5fbe5f",
   "metadata": {},
   "source": [
    "# Lab | Inferential statistics"
   ]
  },
  {
   "cell_type": "code",
   "execution_count": 4,
   "id": "8905539a",
   "metadata": {},
   "outputs": [],
   "source": [
    "import math as m\n",
    "import scipy.stats as stats"
   ]
  },
  {
   "cell_type": "code",
   "execution_count": null,
   "id": "4ab4a623",
   "metadata": {},
   "outputs": [],
   "source": [
    "# collecting the needed data for the problem"
   ]
  },
  {
   "cell_type": "markdown",
   "id": "1a115c29",
   "metadata": {},
   "source": [
    "- μ = 120 mm Hg:  mean systolic blood pressure\n",
    "- n = 100: sample of honolulu study\n",
    "- 130.1 mm Hg: mean systolic blood pressure for honolulu study\n",
    "- 21.21 mm Hg: std systolic blood pressure for honolulu study \n",
    "\n",
    "Question: Is the group significantly different (with respect to systolic blood pressure!) from the regular population?"
   ]
  },
  {
   "cell_type": "markdown",
   "id": "fcff2851",
   "metadata": {},
   "source": [
    "## Step 1: Set up the hypothesis test"
   ]
  },
  {
   "cell_type": "markdown",
   "id": "ee20a92b",
   "metadata": {},
   "source": [
    "Let's start with the null hypothesis: \n",
    "- H0 = There **is no** significant (statistical) difference between the general population and the sample of the honolulu study in regards to their mean systolic blood pressure.\n",
    "\n",
    "Let's define our alternative hypothesis:\n",
    "- H1 = There **is** significant (statistical) difference between the general population and the sample of the honolulu study in regards to their mean systolic blood pressure.\n",
    "\n",
    "It's also important to define our confidence intervals which we set to 95%. \n",
    "- Therefore a = 0.05"
   ]
  },
  {
   "cell_type": "markdown",
   "id": "a72a36cc",
   "metadata": {},
   "source": [
    "## Step 2: Write down all the steps followed for setting up the test."
   ]
  },
  {
   "cell_type": "markdown",
   "id": "4d5364ab",
   "metadata": {},
   "source": [
    "We firstly need to define our `control` and `treatment` groups. Our control group her is the general population and the treatment group is the honolulu study sample.\n",
    "\n",
    "The formula to calculate our t statistic here is: t = (sample mean - population mean) / (sample standard deviation / square root of sample size ). Writting this in more statistical terms we get:\n",
    "\n",
    "`t = (x̄ - μ0)/(s/√n)`\n",
    "\n",
    "Additionally, we need to go for a **two-tailed** t-distribution since we are trying to determine if there is any difference between our two groups (non directional). This will be important later."
   ]
  },
  {
   "cell_type": "markdown",
   "id": "7ad32324",
   "metadata": {},
   "source": [
    "### Step 3: Calculate the test statistic by hand and also code it in Python. It should be 4.76190. We will take a look at how to make decisions based on this calculated value."
   ]
  },
  {
   "cell_type": "code",
   "execution_count": 3,
   "id": "52d88ab5",
   "metadata": {},
   "outputs": [
    {
     "name": "stdout",
     "output_type": "stream",
     "text": [
      "t =  4.761904761904759\n"
     ]
    }
   ],
   "source": [
    "# now let's apply this to our example\n",
    "\n",
    "x = 130.1 # sample mean\n",
    "μ = 120 #population mean\n",
    "s = 21.21 # sample standard deviation\n",
    "n = 100 # sample size\n",
    "\n",
    "t = (x - μ)/(s/m.sqrt(n))\n",
    "print(\"t = \", t)"
   ]
  },
  {
   "cell_type": "code",
   "execution_count": 14,
   "id": "628e3af5",
   "metadata": {},
   "outputs": [
    {
     "name": "stdout",
     "output_type": "stream",
     "text": [
      "p = 6.562701817208617e-06\n",
      "We can reject H0\n"
     ]
    }
   ],
   "source": [
    "# taking degrees of freedom as n - 1 (sample size - 1)\n",
    "df = 99\n",
    "a = 0.05\n",
    "\n",
    "pvalue = stats.t.sf(abs(t), df=df)*2 # multiplied the one-tailed p-value by two to get the two-tailed p-value.\n",
    "print(\"p =\", pvalue)\n",
    "\n",
    "if pvalue < a:\n",
    "    print(\"We can reject H0\")\n",
    "else:\n",
    "    print(\"We do not have enough evidence to reject H0\")"
   ]
  },
  {
   "cell_type": "markdown",
   "id": "79240a26",
   "metadata": {},
   "source": [
    "**Conclusion:** Since we have evidence to reject our null hypothesis, we can infer that the alternate hypothesis is acceptable. In other words, we conclude that there *is* significant difference between the general population and the sample of our honolulu study in regards to their mean systolic blood pressure."
   ]
  },
  {
   "cell_type": "code",
   "execution_count": null,
   "id": "b5cb37c9",
   "metadata": {},
   "outputs": [],
   "source": []
  },
  {
   "cell_type": "code",
   "execution_count": null,
   "id": "2bf4dd31",
   "metadata": {},
   "outputs": [],
   "source": []
  },
  {
   "cell_type": "code",
   "execution_count": null,
   "id": "d284778b",
   "metadata": {},
   "outputs": [],
   "source": []
  },
  {
   "cell_type": "code",
   "execution_count": null,
   "id": "65458882",
   "metadata": {},
   "outputs": [],
   "source": []
  }
 ],
 "metadata": {
  "kernelspec": {
   "display_name": "Python 3 (ipykernel)",
   "language": "python",
   "name": "python3"
  },
  "language_info": {
   "codemirror_mode": {
    "name": "ipython",
    "version": 3
   },
   "file_extension": ".py",
   "mimetype": "text/x-python",
   "name": "python",
   "nbconvert_exporter": "python",
   "pygments_lexer": "ipython3",
   "version": "3.9.12"
  }
 },
 "nbformat": 4,
 "nbformat_minor": 5
}
